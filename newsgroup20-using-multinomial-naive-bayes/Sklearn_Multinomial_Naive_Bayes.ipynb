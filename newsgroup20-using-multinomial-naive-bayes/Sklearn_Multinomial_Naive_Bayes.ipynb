{
  "nbformat": 4,
  "nbformat_minor": 0,
  "metadata": {
    "colab": {
      "name": "Sklearn Multinomial Naive Bayes",
      "provenance": []
    },
    "kernelspec": {
      "name": "python3",
      "display_name": "Python 3"
    }
  },
  "cells": [
    {
      "cell_type": "code",
      "metadata": {
        "id": "qUZUNQJE_Xq1"
      },
      "source": [
        "import numpy as np\r\n",
        "import pandas as pd\r\n",
        "from tqdm import tqdm\r\n",
        "from collections import Counter\r\n",
        "\r\n",
        "from sklearn.naive_bayes import MultinomialNB\r\n",
        "from sklearn.datasets import fetch_20newsgroups\r\n",
        "from sklearn.feature_extraction.text import TfidfVectorizer, CountVectorizer\r\n",
        "from sklearn import metrics\r\n",
        "\r\n",
        "from sklearn.preprocessing import LabelBinarizer"
      ],
      "execution_count": 7,
      "outputs": []
    },
    {
      "cell_type": "code",
      "metadata": {
        "id": "d5KmiAaq_bnr"
      },
      "source": [
        "newsgroups_train = fetch_20newsgroups(subset='train')\r\n",
        "newsgroups_test = fetch_20newsgroups(subset='test')\r\n",
        "vectorizer = CountVectorizer() #TfidfVectorizer()\r\n",
        "vectors = vectorizer.fit_transform(newsgroups_train.data)\r\n",
        "vectors_test = vectorizer.transform(newsgroups_test.data)"
      ],
      "execution_count": 11,
      "outputs": []
    },
    {
      "cell_type": "code",
      "metadata": {
        "colab": {
          "base_uri": "https://localhost:8080/"
        },
        "id": "Iwcfc13q_heQ",
        "outputId": "ec008657-c9e3-4616-d107-7e62f95a6da4"
      },
      "source": [
        "clf = MultinomialNB(alpha=.01)\r\n",
        "clf.fit(vectors, newsgroups_train.target)\r\n",
        "pred = clf.predict(vectors_test)\r\n",
        "\r\n",
        "print('F1 Score : ', metrics.f1_score(newsgroups_test.target, pred, average='macro'))\r\n",
        "print('Accuracy : ', (pred == newsgroups_test.target).mean())"
      ],
      "execution_count": 12,
      "outputs": [
        {
          "output_type": "stream",
          "text": [
            "F1 Score :  0.7852092132952866\n",
            "Accuracy :  0.8039033457249071\n"
          ],
          "name": "stdout"
        }
      ]
    },
    {
      "cell_type": "code",
      "metadata": {
        "colab": {
          "base_uri": "https://localhost:8080/"
        },
        "id": "A-COiYEd_y44",
        "outputId": "d9fe428c-ab02-4c87-fa62-740c060d920f"
      },
      "source": [
        "newsgroups_train = fetch_20newsgroups(subset='train')\r\n",
        "newsgroups_test = fetch_20newsgroups(subset='test')\r\n",
        "vectorizer = TfidfVectorizer()\r\n",
        "vectors = vectorizer.fit_transform(newsgroups_train.data)\r\n",
        "vectors_test = vectorizer.transform(newsgroups_test.data)\r\n",
        "clf = MultinomialNB(alpha=.01)\r\n",
        "clf.fit(vectors, newsgroups_train.target)\r\n",
        "pred = clf.predict(vectors_test)\r\n",
        "\r\n",
        "print('F1 Score : ', metrics.f1_score(newsgroups_test.target, pred, average='macro'))\r\n",
        "print('Accuracy : ', (pred == newsgroups_test.target).mean())"
      ],
      "execution_count": 13,
      "outputs": [
        {
          "output_type": "stream",
          "text": [
            "F1 Score :  0.8290659644474043\n",
            "Accuracy :  0.8352363250132767\n"
          ],
          "name": "stdout"
        }
      ]
    },
    {
      "cell_type": "code",
      "metadata": {
        "id": "eXv1-J0ZAPIw"
      },
      "source": [
        ""
      ],
      "execution_count": null,
      "outputs": []
    }
  ]
}