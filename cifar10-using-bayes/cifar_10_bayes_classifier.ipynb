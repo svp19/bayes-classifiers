{
 "cells": [
  {
   "cell_type": "code",
   "execution_count": 17,
   "metadata": {},
   "outputs": [],
   "source": [
    "import cv2\n",
    "import numpy as np\n",
    "import os\n",
    "import matplotlib.pyplot as plt"
   ]
  },
  {
   "cell_type": "code",
   "execution_count": 2,
   "metadata": {},
   "outputs": [],
   "source": [
    "rgb_weights = [0.2989, 0.5870, 0.1140]\n",
    "def load_images_from_folder(folder):\n",
    "    images = []\n",
    "    for filename in os.listdir(folder):\n",
    "        img = cv2.imread(os.path.join(folder,filename))\n",
    "        if img is not None:\n",
    "            img\n",
    "            images.append(img)\n",
    "    return images"
   ]
  },
  {
   "cell_type": "code",
   "execution_count": 181,
   "metadata": {},
   "outputs": [],
   "source": [
    "root_dir_1 = 'CIFAR-10-images/train/airplane'\n",
    "root_dir_2 = 'CIFAR-10-images/train/cat'\n",
    "root_dir_3 = 'CIFAR-10-images/test/airplane'\n",
    "root_dir_4 = 'CIFAR-10-images/test/cat'"
   ]
  },
  {
   "cell_type": "code",
   "execution_count": 182,
   "metadata": {},
   "outputs": [],
   "source": [
    "# load train images\n",
    "train_images_airplane = load_images_from_folder(root_dir_1)\n",
    "train_images_cat = load_images_from_folder(root_dir_2)"
   ]
  },
  {
   "cell_type": "code",
   "execution_count": 183,
   "metadata": {},
   "outputs": [],
   "source": [
    "# load test images\n",
    "test_images_airplane = load_images_from_folder(root_dir_3)\n",
    "test_images_cat = load_images_from_folder(root_dir_4)"
   ]
  },
  {
   "cell_type": "code",
   "execution_count": 184,
   "metadata": {},
   "outputs": [
    {
     "data": {
      "image/png": "[encoded data removed]",
      "text/plain": [
       "<Figure size 432x288 with 1 Axes>"
      ]
     },
     "metadata": {
      "needs_background": "light"
     },
     "output_type": "display_data"
    }
   ],
   "source": [
    "# display train images cat\n",
    "plt.imshow(train_images_cat[1])\n",
    "plt.show()"
   ]
  },
  {
   "cell_type": "code",
   "execution_count": 185,
   "metadata": {},
   "outputs": [
    {
     "data": {
      "image/png": "[encoded data removed]",
      "text/plain": [
       "<Figure size 432x288 with 1 Axes>"
      ]
     },
     "metadata": {
      "needs_background": "light"
     },
     "output_type": "display_data"
    }
   ],
   "source": [
    "# display train images airplane\n",
    "plt.imshow(train_images_airplane[1])\n",
    "plt.show()"
   ]
  },
  {
   "cell_type": "code",
   "execution_count": 186,
   "metadata": {},
   "outputs": [],
   "source": [
    "# data preprocessing \n",
    "train_images_cat = np.array(train_images_cat)\n",
    "train_images_airplane = np.array(train_images_airplane)\n",
    "test_images_cat = np.array(test_images_cat)\n",
    "test_images_airplane = np.array(test_images_airplane)\n",
    "\n",
    "# normalization\n",
    "train_images_cat = np.divide(train_images_cat,255)\n",
    "train_images_airplane = np.divide(train_images_airplane, 255)\n",
    "test_images_cat = np.divide(test_images_cat, 255)\n",
    "test_images_airplane = np.divide(test_images_airplane, 255)\n",
    "\n",
    "\n",
    "\n",
    "# convertion into gray scale\n",
    "rgb_weights = [0.2989, 0.5870, 0.1140]\n",
    "train_images_cat = np.dot(train_images_cat, rgb_weights)\n",
    "train_images_airplane = np.dot(train_images_airplane,rgb_weights)\n",
    "test_images_cat = np.dot(test_images_cat, rgb_weights)\n",
    "test_images_airplane = np.dot(test_images_airplane, rgb_weights)\n"
   ]
  },
  {
   "cell_type": "code",
   "execution_count": 187,
   "metadata": {},
   "outputs": [],
   "source": [
    "# data is perfectly balanced\n",
    "# reshape data\n",
    "train_images_airplane = train_images_airplane.reshape(train_images_airplane.shape[0], -1)\n",
    "train_images_cat = train_images_cat.reshape(train_images_cat.shape[0], -1)\n",
    "test_images_airplane = test_images_airplane.reshape(test_images_airplane.shape[0], -1)\n",
    "test_images_cat = test_images_cat.reshape(test_images_cat.shape[0], -1)"
   ]
  },
  {
   "cell_type": "code",
   "execution_count": 188,
   "metadata": {},
   "outputs": [
    {
     "name": "stdout",
     "output_type": "stream",
     "text": [
      "Airplane dataset shape: (5000, 1024)\n",
      "Cat dataset shape: (5000, 1024)\n"
     ]
    }
   ],
   "source": [
    "# output shapes\n",
    "print('Airplane dataset shape: {}'.format(train_images_airplane.shape))\n",
    "print('Cat dataset shape: {}'.format(train_images_cat.shape))"
   ]
  },
  {
   "cell_type": "code",
   "execution_count": 189,
   "metadata": {},
   "outputs": [],
   "source": [
    "# fitting a multivariate normal distribution without assuming independence among pixel values\n",
    "\n",
    "from scipy.stats import multivariate_normal\n",
    "def mean_func(X):\n",
    "    \n",
    "    return np.mean(X, axis = 0)\n",
    "\n",
    "def sigma_func(X):\n",
    "    cov = np.zeros((X.shape[1], X.shape[1]))\n",
    "    mu = mean_func(X).reshape(1,-1)\n",
    "    for items in X:\n",
    "        items = items.reshape(1,-1)\n",
    "        cov+=np.dot(items-mu,(items-mu).T)\n",
    "    cov_act = cov/(X.shape[0]-1)\n",
    "    # add regularizer params to covariance matrix\n",
    "    alpha = 0.5\n",
    "    cov_act +=np.diag(np.ones(X.shape[1])*alpha)\n",
    "    return cov_act\n",
    "\n",
    "def get_ccd(x, mu, cov):\n",
    "    \n",
    "    return multivariate_normal.logpdf(x,mu, cov)\n",
    "\n",
    "def log_density_func(x, mu, det_sigma, inv_sigma):\n",
    "    x = x.reshape(mu.shape[0],1)\n",
    "    mu = mu.reshape(mu.shape[0],1)\n",
    "    \n",
    "    return -0.5*np.log(det_sigma) - 0.5* (np.dot((x - mu).T, np.dot(inv_sigma, x - mu)))\n",
    "\n",
    "def get_posterior(prior, log_ccd):\n",
    "    return np.log(prior) + log_ccd\n",
    "\n",
    "def classifier(pos_0, pos_1):\n",
    "    if pos_0>=pos_1:\n",
    "        return 0\n",
    "    else:\n",
    "        return 1"
   ]
  },
  {
   "cell_type": "code",
   "execution_count": 190,
   "metadata": {},
   "outputs": [],
   "source": [
    "# calculating parameters of the multivariate gaussian distribution for the airplane  and cat classes\n",
    "# covariance matrix\n",
    "cov_air = sigma_func(train_images_airplane)\n",
    "cov_cat = sigma_func(train_images_cat)\n",
    "\n",
    "# mean\n",
    "mu_air = mean_func(train_images_airplane)\n",
    "mu_cat = mean_func(train_images_cat)\n"
   ]
  },
  {
   "cell_type": "code",
   "execution_count": 191,
   "metadata": {},
   "outputs": [
    {
     "data": {
      "image/png": "[encoded data removed]",
      "text/plain": [
       "<Figure size 432x288 with 1 Axes>"
      ]
     },
     "metadata": {
      "needs_background": "light"
     },
     "output_type": "display_data"
    }
   ],
   "source": [
    "plt.imshow(mu_cat.reshape(32,32), cmap='gray', vmin=0, vmax=1)\n",
    "plt.show()"
   ]
  },
  {
   "cell_type": "code",
   "execution_count": 192,
   "metadata": {},
   "outputs": [
    {
     "name": "stdout",
     "output_type": "stream",
     "text": [
      "(1024, 1024)\n",
      "(1024, 1024)\n",
      "(1024,)\n",
      "(1024,)\n"
     ]
    }
   ],
   "source": [
    "# shapes of parameters\n",
    "print(cov_air.shape)\n",
    "print(cov_cat.shape)\n",
    "print(mu_air.shape)\n",
    "print(mu_cat.shape)"
   ]
  },
  {
   "cell_type": "code",
   "execution_count": 193,
   "metadata": {},
   "outputs": [],
   "source": [
    "# estimating priors\n",
    "\n",
    "# we obtain the priors from the training data distribution\n",
    "p_air = train_images_airplane.shape[0]/(train_images_airplane.shape[0]+train_images_cat.shape[0])\n",
    "p_cat = 1 - p_air\n"
   ]
  },
  {
   "cell_type": "code",
   "execution_count": 194,
   "metadata": {},
   "outputs": [
    {
     "name": "stdout",
     "output_type": "stream",
     "text": [
      "Accuracy of the gaussian modelling based classifier: 64.64999999999999%\n"
     ]
    }
   ],
   "source": [
    "# estimating the class conditional desnities for all training samples\n",
    "\n",
    "det_sigma_air = np.linalg.det(cov_air)\n",
    "inv_sigma_air = np.linalg.pinv(cov_air)\n",
    "det_sigma_cat = np.linalg.det(cov_cat)\n",
    "inv_sigma_cat = np.linalg.pinv(cov_cat)\n",
    "\n",
    "correct = 0\n",
    "# testing for cat images\n",
    "test_images = np.append(test_images_airplane, test_images_cat, axis = 0)\n",
    "y_cat = np.ones((test_images_cat.shape[0]))\n",
    "y_air = np.zeros((test_images_airplane.shape[0]))\n",
    "y_images = np.append(y_air,y_cat)\n",
    "pred_vector = np.zeros((y_images.shape[0]))\n",
    "for i,items in enumerate(test_images):\n",
    "    \n",
    "    ccd_air = log_density_func(items, mu_air, det_sigma_air, inv_sigma_air)\n",
    "    pos_air = get_posterior(p_air, ccd_air)\n",
    "    \n",
    "    ccd_cat = log_density_func(items, mu_cat, det_sigma_cat, inv_sigma_cat)\n",
    "    pos_cat = get_posterior(p_cat, ccd_cat)\n",
    "    out = classifier(pos_air, pos_cat)\n",
    "    \n",
    "    if out==y_images[i]:\n",
    "        correct+=1\n",
    "    pred_vector[i] = out\n",
    "print('Accuracy of the gaussian modelling based classifier: {}%'.format(correct/len(test_images)*100))\n",
    "\n"
   ]
  },
  {
   "cell_type": "code",
   "execution_count": 195,
   "metadata": {},
   "outputs": [],
   "source": [
    "from sklearn.metrics import confusion_matrix\n",
    "cf_mt = confusion_matrix(y_images, pred_vector)"
   ]
  },
  {
   "cell_type": "code",
   "execution_count": 196,
   "metadata": {},
   "outputs": [
    {
     "data": {
      "text/plain": [
       "<AxesSubplot:>"
      ]
     },
     "execution_count": 196,
     "metadata": {},
     "output_type": "execute_result"
    },
    {
     "data": {
      "image/png": "[encoded data removed]",
      "text/plain": [
       "<Figure size 432x288 with 2 Axes>"
      ]
     },
     "metadata": {
      "needs_background": "light"
     },
     "output_type": "display_data"
    }
   ],
   "source": [
    "import seaborn as sns\n",
    "sns.heatmap(cf_mt/np.sum(cf_mt), annot=True, \n",
    "            fmt='.2%', cmap='Blues')"
   ]
  },
  {
   "cell_type": "code",
   "execution_count": 197,
   "metadata": {},
   "outputs": [],
   "source": [
    "# fitting an exponential distribution \n",
    "\n",
    "# parameters for exponential distribution\n",
    "lambda_air = 1/mean_func(train_images_airplane)\n",
    "lambda_cat = 1/mean_func(train_images_cat)\n",
    "\n",
    "def log_expo_density(x, lambda_in):\n",
    "    labmda_in = lambda_in.reshape(1,-1)\n",
    "    x = x.reshape(1,-1)\n",
    "    \n",
    "    return np.sum(np.log(lambda_in) - np.multiply(x, lambda_in))\n",
    "\n"
   ]
  },
  {
   "cell_type": "code",
   "execution_count": 198,
   "metadata": {},
   "outputs": [
    {
     "name": "stdout",
     "output_type": "stream",
     "text": [
      "Accuracy of a exponential based modelling classifier: 72.25%\n"
     ]
    }
   ],
   "source": [
    "exp_c = 0\n",
    "# class conditional densities\n",
    "test_images = np.append(test_images_airplane, test_images_cat, axis = 0)\n",
    "y_cat = np.ones((test_images_cat.shape[0]))\n",
    "y_air = np.zeros((test_images_airplane.shape[0]))\n",
    "y_images = np.append(y_air,y_cat)\n",
    "pred_vector = np.zeros((y_images.shape[0]))\n",
    "for i,items in enumerate(test_images):\n",
    "    exp_ccd_air = log_expo_density(items, lambda_air)\n",
    "    # print(exp_ccd_0.shape)\n",
    "    \n",
    "    exp_ccd_cat = log_expo_density(items, lambda_cat)\n",
    "    pos_air = get_posterior(p_air, exp_ccd_air)\n",
    "    pos_cat = get_posterior(p_cat, exp_ccd_cat)\n",
    "    out = classifier(pos_air, pos_cat)\n",
    "    if out==y_images[i]:\n",
    "        exp_c+=1\n",
    "    pred_vector[i] = out\n",
    "print('Accuracy of a exponential based modelling classifier: {}%'.format(exp_c/len(test_images)*100))"
   ]
  },
  {
   "cell_type": "code",
   "execution_count": 199,
   "metadata": {},
   "outputs": [],
   "source": [
    "cf_mt = confusion_matrix(y_images, pred_vector)"
   ]
  },
  {
   "cell_type": "code",
   "execution_count": 200,
   "metadata": {},
   "outputs": [
    {
     "data": {
      "text/plain": [
       "<AxesSubplot:>"
      ]
     },
     "execution_count": 200,
     "metadata": {},
     "output_type": "execute_result"
    },
    {
     "data": {
      "image/png": "[encoded data removed]",
      "text/plain": [
       "<Figure size 432x288 with 2 Axes>"
      ]
     },
     "metadata": {
      "needs_background": "light"
     },
     "output_type": "display_data"
    }
   ],
   "source": [
    "sns.heatmap(cf_mt/np.sum(cf_mt), annot=True, \n",
    "            fmt='.2%', cmap='Blues')"
   ]
  },
  {
   "cell_type": "code",
   "execution_count": null,
   "metadata": {},
   "outputs": [],
   "source": []
  },
  {
   "cell_type": "code",
   "execution_count": null,
   "metadata": {},
   "outputs": [],
   "source": []
  }
 ],
 "metadata": {
  "kernelspec": {
   "display_name": "Python 3",
   "language": "python",
   "name": "python3"
  },
  "language_info": {
   "codemirror_mode": {
    "name": "ipython",
    "version": 3
   },
   "file_extension": ".py",
   "mimetype": "text/x-python",
   "name": "python",
   "nbconvert_exporter": "python",
   "pygments_lexer": "ipython3",
   "version": "3.7.3"
  }
 },
 "nbformat": 4,
 "nbformat_minor": 4
}
